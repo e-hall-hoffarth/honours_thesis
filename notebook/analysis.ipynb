{
 "cells": [
  {
   "cell_type": "code",
   "execution_count": null,
   "metadata": {},
   "outputs": [],
   "source": [
    "import pandas as pd\n",
    "\n",
    "dir = '~/Documents/ECON495/data_breach'\n",
    "file = 'Privacy_Rights_Clearinghouse-Data-Breaches-Export.csv'\n",
    "raw = pd.read_csv('{}/{}'.format(dir, file))\n",
    "states = pd.read_csv('{}/states.csv'.format(dir))\n",
    "\n",
    "states['region'] = states['region'].str.lower()\n",
    "raw.columns = [x.replace(' ', '_') for x in raw.columns.str.lower()]\n",
    "print(raw.columns)\n",
    "data = raw.loc[raw.loc['state'] in states['region'], :]\n",
    "print(data)"
   ]
  }
 ],
 "metadata": {
  "kernelspec": {
   "display_name": "Python 3",
   "language": "python",
   "name": "python3"
  },
  "language_info": {
   "codemirror_mode": {
    "name": "ipython",
    "version": 3
   },
   "file_extension": ".py",
   "mimetype": "text/x-python",
   "name": "python",
   "nbconvert_exporter": "python",
   "pygments_lexer": "ipython3",
   "version": "3.7.2"
  }
 },
 "nbformat": 4,
 "nbformat_minor": 2
}
