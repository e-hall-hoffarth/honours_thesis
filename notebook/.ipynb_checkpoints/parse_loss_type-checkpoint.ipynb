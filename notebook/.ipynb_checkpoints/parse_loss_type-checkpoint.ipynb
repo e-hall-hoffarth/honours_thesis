{
 "cells": [
  {
   "cell_type": "code",
   "execution_count": null,
   "metadata": {},
   "outputs": [],
   "source": [
    "import csv\n",
    "\n",
    "infile = 'data_breaches_w_company_details_nocrit_clean.csv'\n",
    "outfile = 'data_breaches_w_company_details_nocrit_clean_parsed.csv'\n",
    "\n",
    "search_terms = ['customer','employee','credit_card','cvv','social_security','name','address','personal_information']\n",
    "\n",
    "with open(infile, 'r') as inf, open(outfile, 'w+') as outf:\n",
    "    reader = csv.DictReader(inf)\n",
    "    headers = [h for h in reader.fieldnames]\n",
    "    headers = headers + search_terms\n",
    "    writer = csv.DictWriter(outf, fieldnames=headers, quoting=csv.QUOTE_ALL)\n",
    "    writer.writeheader()\n",
    "\n",
    "    for row in reader:\n",
    "        info = row['Description of incident'].lower()\n",
    "\n",
    "        row['customer'] = 1 if 'customer' in info else 0\n",
    "        row['employee'] = 1 if 'employee' in info and 'customer' not in info else 0\n",
    "        row['credit_card'] = 1 if 'credit card' in info else 0\n",
    "        row['cvv'] = 1 if 'cvv' in info else 0\n",
    "        row['social_security'] = 1 if 'social security' in info or 'ssn' in info else 0\n",
    "        row['name'] = 1 if 'name' in info else 0\n",
    "        row['address'] = 1 if 'address' in info else 0\n",
    "        row['personal_information'] = 1 if 'personal information' in info else 0\n",
    "\n",
    "        writer.writerow(row)"
   ]
  }
 ],
 "metadata": {
  "kernelspec": {
   "display_name": "Python 3",
   "language": "python",
   "name": "python3"
  },
  "language_info": {
   "codemirror_mode": {
    "name": "ipython",
    "version": 3
   },
   "file_extension": ".py",
   "mimetype": "text/x-python",
   "name": "python",
   "nbconvert_exporter": "python",
   "pygments_lexer": "ipython3",
   "version": "3.7.2"
  }
 },
 "nbformat": 4,
 "nbformat_minor": 2
}
