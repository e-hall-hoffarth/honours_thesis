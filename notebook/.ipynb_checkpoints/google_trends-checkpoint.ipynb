{
 "cells": [
  {
   "cell_type": "code",
   "execution_count": 5,
   "metadata": {},
   "outputs": [
    {
     "name": "stdout",
     "output_type": "stream",
     "text": [
      "'AIR',\n"
     ]
    },
    {
     "ename": "KeyboardInterrupt",
     "evalue": "",
     "output_type": "error",
     "traceback": [
      "\u001b[0;31m---------------------------------------------------------------------------\u001b[0m",
      "\u001b[0;31mKeyboardInterrupt\u001b[0m                         Traceback (most recent call last)",
      "\u001b[0;32m<ipython-input-5-876dda95d4cc>\u001b[0m in \u001b[0;36m<module>\u001b[0;34m\u001b[0m\n\u001b[1;32m     69\u001b[0m     \u001b[0;31m# cs.to_csv('data/COMPUSTAT_merged_trend_work.csv')\u001b[0m\u001b[0;34m\u001b[0m\u001b[0;34m\u001b[0m\u001b[0;34m\u001b[0m\u001b[0m\n\u001b[1;32m     70\u001b[0m \u001b[0;34m\u001b[0m\u001b[0m\n\u001b[0;32m---> 71\u001b[0;31m     \u001b[0mtime\u001b[0m\u001b[0;34m.\u001b[0m\u001b[0msleep\u001b[0m\u001b[0;34m(\u001b[0m\u001b[0;36m62\u001b[0m\u001b[0;34m)\u001b[0m\u001b[0;34m\u001b[0m\u001b[0;34m\u001b[0m\u001b[0m\n\u001b[0m",
      "\u001b[0;31mKeyboardInterrupt\u001b[0m: "
     ]
    }
   ],
   "source": [
    "from pytrends.request import TrendReq\n",
    "import pandas as pd\n",
    "import numpy as np\n",
    "import datetime\n",
    "import csv\n",
    "import time\n",
    "import re\n",
    "\n",
    "complete = []\n",
    "remove = ['CORP', 'INC', 'LTD', 'CORPORATION', 'INCORPORATED', 'LLC', 'LTD', 'GROUP', 'NV', 'GRP', 'PLC']\n",
    "cs = pd.read_csv('../data/COMPUSTAT_merged.csv')\n",
    "cs['date'] = pd.to_datetime(cs['datadate'], format='%Y-%m-%d')\n",
    "cs_todo = cs[~cs['tic_x'].isin(complete)]\n",
    "\n",
    "\n",
    "companies = cs_todo[['tic_x', 'conm_x']].drop_duplicates().dropna()\n",
    "search_terms = zip(list(companies['tic_x']), list(companies['conm_x']))\n",
    "\n",
    "pytrends = TrendReq(hl='en_US')\n",
    "\n",
    "def clean_name(name):\n",
    "    name = str(name)\n",
    "    name = re.sub(r'[^\\s\\w]+', '', name)\n",
    "    namewords = name.split()\n",
    "    resultwords = [word for word in namewords if word not in remove]\n",
    "    result = ' '.join(resultwords)\n",
    "    result = result.strip(' ')\n",
    "    return result\n",
    "\n",
    "for tic, conm in search_terms:\n",
    "    print(f'\\'{tic}\\',')\n",
    "    tic_orig = tic\n",
    "    conm = clean_name(conm)\n",
    "    tic = clean_name(tic)\n",
    "    pytrends.build_payload([tic, conm], timeframe='2005-01-01 2017-12-31', geo='US')\n",
    "    result = pytrends.interest_over_time()\n",
    "    try:\n",
    "        del result['isPartial']\n",
    "    except KeyError:\n",
    "        pass\n",
    "\n",
    "    # print(f'Found result:')\n",
    "    # print(result.head())\n",
    "    result.to_csv(f'../data/trends/{tic}_{conm}.csv', index=True, quoting=csv.QUOTE_ALL)\n",
    "    complete += [tic_orig]\n",
    "\n",
    "    # trends = trends.join(result)\n",
    "    # print('Results so far:')\n",
    "    # print(trends)\n",
    "\n",
    "    # tic_flat = result[tic].reset_index()\n",
    "    # tic_flat.columns = ['date', 'trend_tic']\n",
    "    # tic_flat['tic_x'] = tic\n",
    "    # tic_flat['date'] = pd.to_datetime(tic_flat['date'], format='%Y-%m-%d')\n",
    "\n",
    "    # conm_flat = result[conm].reset_index()\n",
    "    # conm_flat.columns = ['date', 'trend_conm']\n",
    "    # conm_flat['conm_x'] = conm\n",
    "    # conm_flat['date'] = pd.to_datetime(conm_flat['date'], format='%Y-%m-%d')\n",
    "\n",
    "    # print('Converted to tic table:')\n",
    "    # print(tic_flat.head())\n",
    "    \n",
    "    # print('Converted to conm table:')\n",
    "    # print(conm_flat.head())\n",
    "\n",
    "    # cs = pd.merge(cs, tic_flat, how='outer', on=['date', 'tic_x'])\n",
    "    # cs = pd.merge(cs, conm_flat, how='outer', on=['date', 'conm_x'])\n",
    "    # cs.to_csv('data/COMPUSTAT_merged_trend_work.csv')\n",
    "\n",
    "    time.sleep(62)"
   ]
  }
 ],
 "metadata": {
  "kernelspec": {
   "display_name": "Python 3",
   "language": "python",
   "name": "python3"
  }
 },
 "nbformat": 4,
 "nbformat_minor": 2
}
