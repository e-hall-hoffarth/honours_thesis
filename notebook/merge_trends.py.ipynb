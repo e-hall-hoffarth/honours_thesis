{
 "cells": [
  {
   "cell_type": "code",
   "execution_count": 56,
   "metadata": {},
   "outputs": [
    {
     "name": "stdout",
     "output_type": "stream",
     "text": [
      "437\n",
      "423\n"
     ]
    }
   ],
   "source": [
    "import pandas as pd\n",
    "import os\n",
    "import csv\n",
    "\n",
    "trend_dir = '../data/trends'\n",
    "file_names = os.listdir(trend_dir)\n",
    "\n",
    "first = True\n",
    "missing_company = 0\n",
    "for file in file_names:\n",
    "    data = pd.read_csv(trend_dir + '/' + file, index_col='date')\n",
    "    if first:\n",
    "        tic_out = data.iloc[:,0].to_frame()\n",
    "        conm_out = data.iloc[:,1].to_frame()\n",
    "        first = False\n",
    "    else:\n",
    "        try:\n",
    "            tic_out = pd.concat([tic_out, data.iloc[:,0].to_frame()], axis=1)\n",
    "            conm_out = pd.concat([conm_out, data.iloc[:,1].to_frame()], axis=1)\n",
    "        except IndexError:\n",
    "            missing_company += 1\n",
    "            continue\n",
    "            \n",
    "print(len(tic_out.columns))\n",
    "print(len(conm_out.columns))"
   ]
  },
  {
   "cell_type": "code",
   "execution_count": 57,
   "metadata": {},
   "outputs": [],
   "source": [
    "tic_out.to_csv('../data/trends_tic.csv', quoting=csv.QUOTE_ALL)    \n",
    "conm_out.to_csv('../data/trends_conm.csv', quoting=csv.QUOTE_ALL)"
   ]
  }
 ],
 "metadata": {
  "kernelspec": {
   "display_name": "Python 3",
   "language": "python",
   "name": "python3"
  },
  "language_info": {
   "codemirror_mode": {
    "name": "ipython",
    "version": 3
   },
   "file_extension": ".py",
   "mimetype": "text/x-python",
   "name": "python",
   "nbconvert_exporter": "python",
   "pygments_lexer": "ipython3",
   "version": "3.7.2"
  }
 },
 "nbformat": 4,
 "nbformat_minor": 2
}
