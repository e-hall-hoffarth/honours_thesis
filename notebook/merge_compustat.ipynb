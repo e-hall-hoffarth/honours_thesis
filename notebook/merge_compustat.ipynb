{
 "cells": [
  {
   "cell_type": "code",
   "execution_count": 1,
   "metadata": {},
   "outputs": [],
   "source": [
    "import pandas as pd\n",
    "import csv\n",
    "import re\n",
    "\n",
    "compustat_location = '../archive/COMPUSTAT_database.csv'\n",
    "breach_location = '../data/data_breaches_final.csv'\n",
    "bea_location = '../archive/BEA_database.csv'\n",
    "trends_tic_location = '../data/trends_tic.csv'\n",
    "trends_conm_location = '../data/trends_conm.csv'\n",
    "out_location = '../data/COMPUSTAT_merged_trends.csv'"
   ]
  },
  {
   "cell_type": "code",
   "execution_count": 2,
   "metadata": {},
   "outputs": [],
   "source": [
    "remove = ['CORP', 'INC', 'LTD', 'CORPORATION', 'INCORPORATED', 'LLC', 'LTD', 'GROUP', 'NV', 'GRP', 'PLC']\n",
    "\n",
    "def clean_name(name):\n",
    "    name = str(name)\n",
    "    name = re.sub(r'[^\\s\\w]+', '', name)\n",
    "    namewords = name.split()\n",
    "    resultwords = [word for word in namewords if word not in remove]\n",
    "    result = ' '.join(resultwords)\n",
    "    result = result.strip(' ')\n",
    "    return result"
   ]
  },
  {
   "cell_type": "code",
   "execution_count": 3,
   "metadata": {},
   "outputs": [
    {
     "name": "stderr",
     "output_type": "stream",
     "text": [
      "/usr/lib/python3.7/site-packages/IPython/core/interactiveshell.py:3020: DtypeWarning: Columns (27) have mixed types. Specify dtype option on import or set low_memory=False.\n",
      "  interactivity=interactivity, compiler=compiler, result=result)\n"
     ]
    }
   ],
   "source": [
    "compustat = pd.read_csv(compustat_location)\n",
    "compustat['datadate'] = pd.to_datetime(compustat['datadate'], format='%Y%m%d')\n",
    "# Remove any data from outside of US companies\n",
    "compustat = compustat[compustat['curcdq'] == 'USD']\n",
    "compustat['datamonth'] = compustat['datadate'].apply(lambda x: x.replace(day = 1))\n",
    "compustat['clean_name'] = compustat['conm'].apply(clean_name)\n",
    "compustat['clean_tic'] = compustat['tic'].apply(clean_name)"
   ]
  },
  {
   "cell_type": "code",
   "execution_count": 4,
   "metadata": {},
   "outputs": [],
   "source": [
    "breach = pd.read_csv(breach_location)\n",
    "breach['datacqtr'] = breach['yearquarter']\n",
    "breach['gvkey'] = breach['GVKEY']\n",
    "breach = breach[breach['match'] == 1]\n",
    "breach['Date Made Public'] = pd.to_datetime(breach['Date Made Public'], format='%B %d, %Y')"
   ]
  },
  {
   "cell_type": "code",
   "execution_count": 5,
   "metadata": {},
   "outputs": [],
   "source": [
    "bea = pd.read_csv(bea_location)\n",
    "bea['datacqtr'] = bea['yearquarter']"
   ]
  },
  {
   "cell_type": "code",
   "execution_count": 6,
   "metadata": {},
   "outputs": [],
   "source": [
    "# trends = pd.read_csv(trends_location).set_index('date')\n",
    "# trends_tic = trends.iloc[:, ::2]\n",
    "# trends_company = trends.iloc[:, 1::2]\n",
    "\n",
    "trends_company = pd.read_csv(trends_conm_location, index_col='date').stack()\n",
    "trends_company = trends_company.reset_index()\n",
    "trends_company['date'] = pd.to_datetime(trends_company['date'])\n",
    "trends_company.columns = ['datamonth', 'clean_name', 'trend_index_company']\n",
    "\n",
    "trends_tic = pd.read_csv(trends_tic_location, index_col='date').stack()\n",
    "trends_tic = trends_tic.reset_index()\n",
    "trends_tic['date'] = pd.to_datetime(trends_tic['date'])\n",
    "trends_tic.columns = ['datamonth', 'clean_tic', 'trend_index_tic']"
   ]
  },
  {
   "cell_type": "code",
   "execution_count": 7,
   "metadata": {},
   "outputs": [],
   "source": [
    "out = pd.merge(compustat, breach, how='outer', on=['gvkey', 'datacqtr'])"
   ]
  },
  {
   "cell_type": "code",
   "execution_count": 8,
   "metadata": {},
   "outputs": [],
   "source": [
    "out = pd.merge(out, bea, how='left', on='datacqtr')"
   ]
  },
  {
   "cell_type": "code",
   "execution_count": 9,
   "metadata": {},
   "outputs": [],
   "source": [
    "out = pd.merge(out, trends_company, how='outer', on=['datamonth','clean_name'])\n",
    "out = pd.merge(out, trends_tic, how='outer', on=['datamonth','clean_tic'])"
   ]
  },
  {
   "cell_type": "code",
   "execution_count": 10,
   "metadata": {},
   "outputs": [],
   "source": [
    "del out['Unnamed: 0']\n",
    "del out['orig_name']\n",
    "\n",
    "out['tic'] = out['tic_x']\n",
    "del out['tic_x']\n",
    "del out['tic_y']\n",
    "\n",
    "out['conm'] = out['conm_x']\n",
    "del out['conm_x']\n",
    "del out['conm_y']\n",
    "\n",
    "out['sic'] = out['sic_x']\n",
    "del out['sic_x']\n",
    "del out['sic_y']\n",
    "\n",
    "out['yearquarter'] = out['yearquarter_x']\n",
    "del out['yearquarter_x']\n",
    "del out['yearquarter_y']\n"
   ]
  },
  {
   "cell_type": "code",
   "execution_count": 13,
   "metadata": {},
   "outputs": [],
   "source": [
    "out = out[~out['datadate'].isnull()]"
   ]
  },
  {
   "cell_type": "code",
   "execution_count": 14,
   "metadata": {},
   "outputs": [],
   "source": [
    "out.to_csv(out_location, index=False, quoting=csv.QUOTE_ALL)"
   ]
  }
 ],
 "metadata": {
  "kernelspec": {
   "display_name": "Python 3",
   "language": "python",
   "name": "python3"
  },
  "language_info": {
   "codemirror_mode": {
    "name": "ipython",
    "version": 3
   },
   "file_extension": ".py",
   "mimetype": "text/x-python",
   "name": "python",
   "nbconvert_exporter": "python",
   "pygments_lexer": "ipython3",
   "version": "3.7.2"
  }
 },
 "nbformat": 4,
 "nbformat_minor": 2
}
