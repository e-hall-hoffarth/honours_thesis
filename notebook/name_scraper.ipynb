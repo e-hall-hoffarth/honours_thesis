{
 "cells": [
  {
   "cell_type": "code",
   "execution_count": null,
   "metadata": {},
   "outputs": [],
   "source": [
    "import requests\n",
    "import csv\n",
    "import json\n",
    "import time\n",
    "\n",
    "f = './Privacy_Rights_Clearinghouse-Data-Breaches-Export_2018.csv'\n",
    "out = './data-breaches-with-tickers.csv'\n",
    "\n",
    "with open(f, 'r') as infile, open(out, 'w+') as outfile:\n",
    "    data = csv.DictReader(infile)\n",
    "    headers = data.fieldnames\n",
    "    headers = headers + ['symbol', 'matched_name']\n",
    "    print(headers)\n",
    "    writer = csv.DictWriter(outfile, fieldnames=headers, quoting=csv.QUOTE_ALL)\n",
    "    writer.writeheader()\n",
    "\n",
    "    found = 0\n",
    "\n",
    "    for line in data:\n",
    "        company = line['Company'].strip()\n",
    "        url = 'http://d.yimg.com/aq/autoc?query={}&region=US&lang=en-US'.format(company)\n",
    "        resp = requests.get(url)\n",
    "        try:\n",
    "            content = resp.json()['ResultSet']['Result']\n",
    "        except Exception as e:\n",
    "            print('Problem while searching for {}, skipping...'.format(company))\n",
    "            continue\n",
    "\n",
    "        try:\n",
    "            symbol = content[0]['symbol']\n",
    "            name = content[0]['name']\n",
    "            found = found + 1\n",
    "            print('Company found: {}'.format(company))\n",
    "        except IndexError:\n",
    "            print('Company not found: {}'.format(company))\n",
    "            continue\n",
    "\n",
    "        line['symbol'] = symbol\n",
    "        line['matched_name'] = name\n",
    "        writer.writerow(line)\n",
    "\n",
    "        time.sleep(0.5)\n",
    "\n",
    "    print('Matched {} names'.format(found))\n"
   ]
  }
 ],
 "metadata": {
  "kernelspec": {
   "display_name": "Python 3",
   "language": "python",
   "name": "python3"
  },
  "language_info": {
   "codemirror_mode": {
    "name": "ipython",
    "version": 3
   },
   "file_extension": ".py",
   "mimetype": "text/x-python",
   "name": "python",
   "nbconvert_exporter": "python",
   "pygments_lexer": "ipython3",
   "version": "3.7.2"
  }
 },
 "nbformat": 4,
 "nbformat_minor": 2
}
